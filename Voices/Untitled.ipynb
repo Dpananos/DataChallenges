{
 "cells": [
  {
   "cell_type": "code",
   "execution_count": 1,
   "metadata": {},
   "outputs": [],
   "source": [
    "import numpy as np\n",
    "import pandas as pd\n",
    "import pymc3 as pm\n",
    "\n",
    "import matplotlib.pyplot as plt\n",
    "%matplotlib inline"
   ]
  },
  {
   "cell_type": "code",
   "execution_count": 2,
   "metadata": {},
   "outputs": [],
   "source": [
    "df = pd.read_excel('data/Question 1 - AB Testing Data.xlsx')"
   ]
  },
  {
   "cell_type": "code",
   "execution_count": 3,
   "metadata": {},
   "outputs": [],
   "source": [
    "# ab_data = (df.\n",
    "#  drop_duplicates(['member_id','job_id']).\n",
    "#  groupby(['member_id','variant']).\n",
    "#  agg(y = ('Hired','sum'), \n",
    "#      n = ('Hired', len)).\n",
    "#  reset_index()\n",
    "# )\n",
    "\n",
    "\n",
    "ab_data = pd.read_csv('data/ab_data.csv')\n",
    "\n",
    "ab_data['id'] = np.arange(ab_data.shape[0])\n",
    "\n",
    "v = np.array([1 if j=='B' else 0 for j in ab_data.variant])\n",
    "y = ab_data.y.values\n",
    "n = ab_data.n.values\n",
    "ids = ab_data.id\n"
   ]
  },
  {
   "cell_type": "code",
   "execution_count": 11,
   "metadata": {},
   "outputs": [
    {
     "name": "stderr",
     "output_type": "stream",
     "text": [
      "Auto-assigning NUTS sampler...\n",
      "Initializing NUTS using jitter+adapt_diag...\n",
      "Multiprocess sampling (4 chains in 2 jobs)\n",
      "NUTS: [b, sigma, beta_1, beta_0]\n",
      "Sampling 4 chains, 0 divergences: 100%|██████████| 20000/20000 [01:38<00:00, 202.38draws/s]\n",
      "The number of effective samples is smaller than 10% for some parameters.\n"
     ]
    }
   ],
   "source": [
    "\n",
    "\n",
    "with pm.Model() as model:\n",
    "    \n",
    "    beta_0 = pm.Normal('beta_0', 0.61, 0.12)\n",
    "    beta_1 = pm.Normal('beta_1', 0, 1)\n",
    "    sigma = pm.Bound(pm.StudentT, lower=0)('sigma',nu=3, mu=0, sigma=2.5)\n",
    "    b = pm.Normal('b',beta_0, sigma, shape=ids.shape)\n",
    "    \n",
    "    eta = (b) + beta_1*v\n",
    "    \n",
    "    rate_a = pm.Deterministic('A', pm.invlogit(beta_0))\n",
    "    rate_b = pm.Deterministic('B', pm.invlogit(beta_0 + beta_1))\n",
    "    \n",
    "    p = pm.invlogit(eta)\n",
    "    \n",
    "    Y = pm.Binomial('Y', p = p, n = n, observed = y)\n",
    "    \n",
    "    trace = pm.sample(chains = 4, draws = 4000, tune = 1000)"
   ]
  },
  {
   "cell_type": "code",
   "execution_count": 8,
   "metadata": {},
   "outputs": [
    {
     "name": "stderr",
     "output_type": "stream",
     "text": [
      "100%|██████████| 16000/16000 [00:27<00:00, 578.84it/s]\n"
     ]
    }
   ],
   "source": [
    "with model:\n",
    "    prior = pm.sample_prior_predictive()\n",
    "    posterior = pm.sample_posterior_predictive(trace)"
   ]
  },
  {
   "cell_type": "code",
   "execution_count": 9,
   "metadata": {},
   "outputs": [
    {
     "data": {
      "text/plain": [
       "<matplotlib.lines.Line2D at 0x7fd52194ec90>"
      ]
     },
     "execution_count": 9,
     "metadata": {},
     "output_type": "execute_result"
    },
    {
     "data": {
      "image/png": "[encoded data removed]",
      "text/plain": [
       "<Figure size 432x288 with 1 Axes>"
      ]
     },
     "metadata": {
      "image/png": {
       "height": 250,
       "width": 390
      },
      "needs_background": "light"
     },
     "output_type": "display_data"
    }
   ],
   "source": [
    "plt.hist(posterior['Y'].sum(1))\n",
    "plt.axvline(sum(y), color = 'red')"
   ]
  },
  {
   "cell_type": "raw",
   "metadata": {},
   "source": [
    "A = trace['A']\n",
    "B = trace['B']"
   ]
  },
  {
   "cell_type": "code",
   "execution_count": 7,
   "metadata": {},
   "outputs": [
    {
     "ename": "NameError",
     "evalue": "name 'A' is not defined",
     "output_type": "error",
     "traceback": [
      "\u001b[0;31m---------------------------------------------------------------------------\u001b[0m",
      "\u001b[0;31mNameError\u001b[0m                                 Traceback (most recent call last)",
      "\u001b[0;32m<ipython-input-7-08c41f710bbe>\u001b[0m in \u001b[0;36m<module>\u001b[0;34m\u001b[0m\n\u001b[0;32m----> 1\u001b[0;31m \u001b[0mloss\u001b[0m \u001b[0;34m=\u001b[0m \u001b[0;34m(\u001b[0m\u001b[0mA\u001b[0m\u001b[0;34m-\u001b[0m\u001b[0mB\u001b[0m\u001b[0;34m)\u001b[0m\u001b[0;34m\u001b[0m\u001b[0;34m\u001b[0m\u001b[0m\n\u001b[0m\u001b[1;32m      2\u001b[0m \u001b[0mloss\u001b[0m\u001b[0;34m[\u001b[0m\u001b[0mloss\u001b[0m\u001b[0;34m<\u001b[0m\u001b[0;36m0\u001b[0m\u001b[0;34m]\u001b[0m\u001b[0;34m=\u001b[0m\u001b[0;36m0\u001b[0m\u001b[0;34m\u001b[0m\u001b[0;34m\u001b[0m\u001b[0m\n\u001b[1;32m      3\u001b[0m \u001b[0;34m\u001b[0m\u001b[0m\n\u001b[1;32m      4\u001b[0m \u001b[0mloss\u001b[0m\u001b[0;34m.\u001b[0m\u001b[0mmean\u001b[0m\u001b[0;34m(\u001b[0m\u001b[0;34m)\u001b[0m\u001b[0;34m\u001b[0m\u001b[0;34m\u001b[0m\u001b[0m\n",
      "\u001b[0;31mNameError\u001b[0m: name 'A' is not defined"
     ]
    }
   ],
   "source": [
    "loss = (A-B)\n",
    "loss[loss<0]=0\n",
    "\n",
    "loss.mean()"
   ]
  },
  {
   "cell_type": "code",
   "execution_count": null,
   "metadata": {},
   "outputs": [],
   "source": [
    "loss = (B-A)\n",
    "loss[loss<0]=0\n",
    "\n",
    "loss.mean()"
   ]
  },
  {
   "cell_type": "code",
   "execution_count": null,
   "metadata": {},
   "outputs": [],
   "source": [
    "A.mean()"
   ]
  },
  {
   "cell_type": "code",
   "execution_count": null,
   "metadata": {},
   "outputs": [],
   "source": [
    "B.mean()"
   ]
  },
  {
   "cell_type": "code",
   "execution_count": null,
   "metadata": {},
   "outputs": [],
   "source": [
    "(B-A).mean()"
   ]
  },
  {
   "cell_type": "code",
   "execution_count": null,
   "metadata": {},
   "outputs": [],
   "source": []
  },
  {
   "cell_type": "code",
   "execution_count": null,
   "metadata": {},
   "outputs": [],
   "source": []
  }
 ],
 "metadata": {
  "kernelspec": {
   "display_name": "Python 3",
   "language": "python",
   "name": "python3"
  },
  "language_info": {
   "codemirror_mode": {
    "name": "ipython",
    "version": 3
   },
   "file_extension": ".py",
   "mimetype": "text/x-python",
   "name": "python",
   "nbconvert_exporter": "python",
   "pygments_lexer": "ipython3",
   "version": "3.7.4"
  }
 },
 "nbformat": 4,
 "nbformat_minor": 4
}
